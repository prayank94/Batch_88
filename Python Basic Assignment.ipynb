{
 "cells": [
  {
   "cell_type": "markdown",
   "id": "2d251958",
   "metadata": {},
   "source": [
    "1.  Simple Message: Store a message in a variable, and then print that message."
   ]
  },
  {
   "cell_type": "code",
   "execution_count": 2,
   "id": "88aeb98f",
   "metadata": {},
   "outputs": [
    {
     "name": "stdout",
     "output_type": "stream",
     "text": [
      "This is sample message 1.\n"
     ]
    }
   ],
   "source": [
    "message_1 = 'This is sample message 1.'\n",
    "print(message_1)"
   ]
  },
  {
   "cell_type": "markdown",
   "id": "8a39941a",
   "metadata": {},
   "source": [
    "2. Store a message in a variable and print that message. Then change the value of your variable to a new message and print the new message."
   ]
  },
  {
   "cell_type": "code",
   "execution_count": 5,
   "id": "2c0e2d6a",
   "metadata": {},
   "outputs": [
    {
     "name": "stdout",
     "output_type": "stream",
     "text": [
      "This is sample message 2.\n",
      "This is sample message 3.\n"
     ]
    }
   ],
   "source": [
    "message_2 = 'This is sample message 2.'\n",
    "print(message_2)\n",
    "message_2 = 'This is sample message 3.'\n",
    "print(message_2)"
   ]
  },
  {
   "cell_type": "markdown",
   "id": "0e3d7394",
   "metadata": {},
   "source": [
    "3. Store a person’s name in a variable and print a message to that person. Your message should be simple, such as, “Hello Eric, would you like to learn some Python today?”\n"
   ]
  },
  {
   "cell_type": "code",
   "execution_count": 6,
   "id": "9b51b528",
   "metadata": {},
   "outputs": [
    {
     "name": "stdout",
     "output_type": "stream",
     "text": [
      "Hello Eric, would you like to learn some Python today?\n"
     ]
    }
   ],
   "source": [
    "name_1 = 'Eric'\n",
    "print('Hello {}, would you like to learn some Python today?'.format(name_1))"
   ]
  },
  {
   "cell_type": "markdown",
   "id": "aa89c997",
   "metadata": {},
   "source": [
    "4. Find a quote from a famous person you admire. Print the quote and the name of its author. Your output should look something like the following, including the quotation marks: Albert Einstein once said, “A person who never made a mistake never tried anything new.”\n"
   ]
  },
  {
   "cell_type": "code",
   "execution_count": 7,
   "id": "b857ec08",
   "metadata": {},
   "outputs": [
    {
     "name": "stdout",
     "output_type": "stream",
     "text": [
      "Abler Einsein once said,\"If you judge a fish by its ability to climb a tree, it will live it's whole life believing it's stupid\"\n"
     ]
    }
   ],
   "source": [
    "print('Abler Einsein once said,\\\"If you judge a fish by its ability to climb a tree, it will live it\\'s whole life believing it\\'s stupid\\\"')"
   ]
  },
  {
   "cell_type": "markdown",
   "id": "a57fb30b",
   "metadata": {},
   "source": [
    "5. Repeat Exercise 4, but this time store the famous person’s name in a variable called famous_person. Then compose your message and store it in a new variable called message. Print your message."
   ]
  },
  {
   "cell_type": "code",
   "execution_count": 12,
   "id": "3fbb1201",
   "metadata": {},
   "outputs": [
    {
     "name": "stdout",
     "output_type": "stream",
     "text": [
      "Albert Einstein Once said \"If you judge a fish by its ability to climb a tree, it will live it's whole life believing it's stupid.\"\n"
     ]
    }
   ],
   "source": [
    "famous_person = 'Albert Einstein'\n",
    "message = '\\\"If you judge a fish by its ability to climb a tree, it will live it\\'s whole life believing it\\'s stupid.\\\"'\n",
    "\n",
    "print(famous_person,\"Once said\",message)"
   ]
  },
  {
   "cell_type": "markdown",
   "id": "c0991186",
   "metadata": {},
   "source": [
    "6. Write addition, subtraction, multiplication, and division operations that each result in the number 8. Be sure to enclose your operations in print statements to see the results. You should create four lines that look like this: print (5 + 3) Your output should simply be four lines with the number 8 appearing once on each line."
   ]
  },
  {
   "cell_type": "code",
   "execution_count": 14,
   "id": "40933050",
   "metadata": {},
   "outputs": [
    {
     "name": "stdout",
     "output_type": "stream",
     "text": [
      "8\n",
      "8\n",
      "8\n",
      "8\n"
     ]
    }
   ],
   "source": [
    "print(5+3)\n",
    "print(10-2)\n",
    "print(4*2)\n",
    "print(16//2)"
   ]
  },
  {
   "cell_type": "markdown",
   "id": "2fa729d7",
   "metadata": {},
   "source": [
    "7. Store your favourite number in a variable. Then, using that variable, create a message that reveals your favourite number. Print that message."
   ]
  },
  {
   "cell_type": "code",
   "execution_count": 16,
   "id": "e181cea0",
   "metadata": {},
   "outputs": [
    {
     "name": "stdout",
     "output_type": "stream",
     "text": [
      "my favourite number is 3\n"
     ]
    }
   ],
   "source": [
    "number_1 = 3\n",
    "print('my favourite number is {}'.format(number_1))"
   ]
  },
  {
   "cell_type": "markdown",
   "id": "5481b6dc",
   "metadata": {},
   "source": [
    "8. Choose two of the programs you’ve written and add at least one comment to each. If you don’t have anything specific to write because your programs are too simple at this point, just add your name and the current date at the top of each program file. Then write one sentence describing what the program does."
   ]
  },
  {
   "cell_type": "code",
   "execution_count": 24,
   "id": "8c4bb90a",
   "metadata": {},
   "outputs": [
    {
     "name": "stdout",
     "output_type": "stream",
     "text": [
      "8\n",
      "8\n",
      "8\n",
      "8\n",
      "--------------------\n",
      "\n",
      "This is sample message 2.\n",
      "This is sample message 3.\n"
     ]
    }
   ],
   "source": [
    "# The followinf program shows the use of arithematic operation in print statements.\n",
    "print(5+3)\n",
    "print(10-2)\n",
    "print(4*2)\n",
    "print(16//2)\n",
    "\n",
    "print('-'*20)\n",
    "print('')\n",
    "# This program shows the phenomenon of overriding the vaules in the variable\n",
    "message_2 = 'This is sample message 2.'\n",
    "print(message_2)\n",
    "message_2 = 'This is sample message 3.'\n",
    "print(message_2)"
   ]
  },
  {
   "cell_type": "markdown",
   "id": "f96f4851",
   "metadata": {},
   "source": [
    "9. Store the names of a few of your friends in a list called names. Print each person’s name by accessing each element in the list, one at a time."
   ]
  },
  {
   "cell_type": "code",
   "execution_count": 25,
   "id": "fbc73c13",
   "metadata": {},
   "outputs": [
    {
     "name": "stdout",
     "output_type": "stream",
     "text": [
      "Sunny\n",
      "Kuldeep\n",
      "Megha\n",
      "Riti\n",
      "Neha\n",
      "Anuj\n"
     ]
    }
   ],
   "source": [
    "name_list = ['Sunny','Kuldeep','Megha','Riti','Neha','Anuj']\n",
    "for i in name_list:\n",
    "    print(i)"
   ]
  },
  {
   "cell_type": "markdown",
   "id": "3e5221d3",
   "metadata": {},
   "source": [
    "10. Start with the list you used in Exercise 9, but instead of just printing each person’s name, print a message to them. The text of each message should be the same, but each message should be personalized with the person’s name."
   ]
  },
  {
   "cell_type": "code",
   "execution_count": 27,
   "id": "a18d512a",
   "metadata": {},
   "outputs": [
    {
     "name": "stdout",
     "output_type": "stream",
     "text": [
      "Hi Sunny!\n",
      "Welcome to the data sciene course\n",
      "\n",
      "Hi Kuldeep!\n",
      "Welcome to the data sciene course\n",
      "\n",
      "Hi Megha!\n",
      "Welcome to the data sciene course\n",
      "\n",
      "Hi Riti!\n",
      "Welcome to the data sciene course\n",
      "\n",
      "Hi Neha!\n",
      "Welcome to the data sciene course\n",
      "\n",
      "Hi Anuj!\n",
      "Welcome to the data sciene course\n",
      "\n"
     ]
    }
   ],
   "source": [
    "name_list = ['Sunny','Kuldeep','Megha','Riti','Neha','Anuj']\n",
    "for i in name_list:\n",
    "    print('Hi {}!\\nWelcome to the data sciene course'.format(i))\n",
    "    print()"
   ]
  },
  {
   "cell_type": "markdown",
   "id": "29545936",
   "metadata": {},
   "source": [
    "11. Think of your favourite mode of transportation, such as a motorcycle or a car, and make a list that stores several examples. Use your list to print a series of statements about these items, such as “I would like to own a Honda motorcycle.”\n"
   ]
  },
  {
   "cell_type": "code",
   "execution_count": 32,
   "id": "392b1a0f",
   "metadata": {},
   "outputs": [
    {
     "name": "stdout",
     "output_type": "stream",
     "text": [
      "I would like to own pulsar one day.\n",
      "ninja comes a lot in news when it comes to bike accidents\n",
      "RE SG 650 is my dream bike\n",
      "duke did not gain much popularity in racicng market\n",
      "tvs sport is a good bike for city use\n"
     ]
    }
   ],
   "source": [
    "vehicles = ['ninja','RE SG 650','pulsar','duke','tvs sport']\n",
    "print('I would like to own {} one day.'.format(vehicles[2]))\n",
    "print('{} comes a lot in news when it comes to bike accidents'.format(vehicles[0]))\n",
    "print('{} is my dream bike'.format(vehicles[1]))\n",
    "print('{} did not gain much popularity in racicng market'.format(vehicles[3]))\n",
    "print('{} is a good bike for city use'.format(vehicles[4]))"
   ]
  },
  {
   "cell_type": "code",
   "execution_count": null,
   "id": "d24ca654",
   "metadata": {},
   "outputs": [],
   "source": []
  }
 ],
 "metadata": {
  "kernelspec": {
   "display_name": "Python 3 (ipykernel)",
   "language": "python",
   "name": "python3"
  },
  "language_info": {
   "codemirror_mode": {
    "name": "ipython",
    "version": 3
   },
   "file_extension": ".py",
   "mimetype": "text/x-python",
   "name": "python",
   "nbconvert_exporter": "python",
   "pygments_lexer": "ipython3",
   "version": "3.11.5"
  }
 },
 "nbformat": 4,
 "nbformat_minor": 5
}
